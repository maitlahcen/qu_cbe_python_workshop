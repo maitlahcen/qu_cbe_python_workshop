{
 "cells": [
  {
   "cell_type": "markdown",
   "id": "1b1eb7ee-dd7c-4e1f-8a60-7f3f2077115c",
   "metadata": {},
   "source": [
    "# QU CBE Introduction to Python Workshop - Introduction to Econometrics in Python"
   ]
  },
  {
   "cell_type": "markdown",
   "id": "238f1f34-051e-471f-8065-3c5336788d78",
   "metadata": {},
   "source": [
    "***Mohammed Ait Lahcen, Department of Finance and Economics, College of Business and Economics, Qatar University***"
   ]
  },
  {
   "cell_type": "markdown",
   "id": "1d40a238-f95e-4101-ac2e-03f97df56ea0",
   "metadata": {},
   "source": [
    "There are many libraries in Python which cover statistics and econometrics, for example:\n",
    "- `statsmodels`\n",
    "- `scikit_learn`\n",
    "- `linearmodels`\n",
    "- `PyMC3`\n",
    "\n",
    "In this tutorial we take a look at `statsmodels` and `linearmodels`."
   ]
  },
  {
   "cell_type": "code",
   "execution_count": 1,
   "id": "a33df02f-7e71-41a9-89c7-5fec3c696802",
   "metadata": {},
   "outputs": [],
   "source": [
    "# We start by importing pandas\n",
    "import pandas as pd\n",
    "import matplotlib.pyplot as plt\n",
    "import numpy as np\n",
    "import statsmodels.api as sm\n",
    "from linearmodels.panel import PanelOLS"
   ]
  },
  {
   "cell_type": "markdown",
   "id": "c8f7d040-8b5d-4065-8e95-8473930f352e",
   "metadata": {},
   "source": [
    "### Loading data\n",
    "\n",
    "We are going to use Our World in Data covid database available in the same folder."
   ]
  },
  {
   "cell_type": "code",
   "execution_count": 2,
   "id": "fc3d902c-ca5f-4e00-9a73-0111f2312cbc",
   "metadata": {},
   "outputs": [],
   "source": [
    "data = pd.read_csv('owid-covid-data.csv', sep=',',header=0)"
   ]
  },
  {
   "cell_type": "markdown",
   "id": "6ea5bbd0-1490-444b-a51c-b057a9f9e67e",
   "metadata": {},
   "source": [
    "Subnational locations (England, Northern Ireland, Scotland, Wales, Northern Cyprus…) and international aggregates (World, continents, European Union…) can be identified by their isocode that starts with OWID. We want to drop these entities from our data:"
   ]
  },
  {
   "cell_type": "code",
   "execution_count": 3,
   "id": "ea0ddd25-7715-4891-8415-2d0065abf150",
   "metadata": {},
   "outputs": [],
   "source": [
    "data = data[~data['iso_code'].str.startswith('OWID_')]"
   ]
  },
  {
   "cell_type": "markdown",
   "id": "c5a986a6-536b-4390-9824-cdc917b5a710",
   "metadata": {},
   "source": [
    "We can also change the column date from string to datetime data type to make sure pandas recognizes its content as dates:"
   ]
  },
  {
   "cell_type": "code",
   "execution_count": 4,
   "id": "fa85f611-74e8-4426-bb77-99c5d1f3dae1",
   "metadata": {},
   "outputs": [],
   "source": [
    "data.loc[:,'date'] = pd.to_datetime(data.loc[:,'date'])"
   ]
  },
  {
   "cell_type": "code",
   "execution_count": 5,
   "id": "9df9566a-f3ca-4c91-b798-7599319eb580",
   "metadata": {},
   "outputs": [],
   "source": [
    "data = data.set_index(['iso_code','date'],verify_integrity=True) # verify that the multindex is unique"
   ]
  },
  {
   "cell_type": "code",
   "execution_count": 6,
   "id": "6cb6669f-d308-4cd4-b5bb-316fc42347f1",
   "metadata": {},
   "outputs": [],
   "source": [
    "data.sort_index(level=['iso_code','date'], ascending=[1, 1], inplace=True)"
   ]
  },
  {
   "cell_type": "code",
   "execution_count": 7,
   "id": "8665569f-bc5a-409b-b74d-9dc22505d198",
   "metadata": {},
   "outputs": [],
   "source": [
    "# create a new column\n",
    "data['case_fatality_rate'] = data['total_deaths_per_million'] / data['total_cases_per_million']"
   ]
  },
  {
   "cell_type": "markdown",
   "id": "ee40f573-938a-4943-aca3-5d2c8872669d",
   "metadata": {},
   "source": [
    "## OLS regression"
   ]
  },
  {
   "cell_type": "markdown",
   "id": "d4c5d80f-b239-44ca-b256-b089217e5162",
   "metadata": {},
   "source": [
    "We will use statsmodels' OLS (ordinary least squares) function to estimate our linear regression model:"
   ]
  },
  {
   "cell_type": "code",
   "execution_count": 8,
   "id": "1b9e1553-ebbf-47ad-ad83-ea6c73dc7b68",
   "metadata": {},
   "outputs": [],
   "source": [
    "y = data['total_cases_per_million']\n",
    "x = sm.add_constant(data['stringency_index'])\n",
    "pooled_ols = sm.OLS(y,x,missing='drop')"
   ]
  },
  {
   "cell_type": "markdown",
   "id": "70c13d5b-8bea-4855-86ef-7b4d1cee8116",
   "metadata": {},
   "source": [
    "We then use .fit() to estimate the parameters"
   ]
  },
  {
   "cell_type": "code",
   "execution_count": 9,
   "id": "90ef5fd1-7854-4cda-8bd2-8c9c39c63421",
   "metadata": {},
   "outputs": [
    {
     "data": {
      "text/plain": [
       "<statsmodels.regression.linear_model.RegressionResultsWrapper at 0x237a1fb3970>"
      ]
     },
     "execution_count": 9,
     "metadata": {},
     "output_type": "execute_result"
    }
   ],
   "source": [
    "results = pooled_ols.fit()\n",
    "results"
   ]
  },
  {
   "cell_type": "code",
   "execution_count": 10,
   "id": "7cb7e300-cd4f-4ff0-b44e-27e018598430",
   "metadata": {},
   "outputs": [
    {
     "name": "stdout",
     "output_type": "stream",
     "text": [
      "                               OLS Regression Results                              \n",
      "===================================================================================\n",
      "Dep. Variable:     total_cases_per_million   R-squared:                       0.000\n",
      "Model:                                 OLS   Adj. R-squared:                 -0.000\n",
      "Method:                      Least Squares   F-statistic:                 1.812e-05\n",
      "Date:                     Wed, 27 Oct 2021   Prob (F-statistic):              0.997\n",
      "Time:                             11:51:20   Log-Likelihood:            -1.2052e+06\n",
      "No. Observations:                   102494   AIC:                         2.410e+06\n",
      "Df Residuals:                       102492   BIC:                         2.411e+06\n",
      "Df Model:                                1                                         \n",
      "Covariance Type:                 nonrobust                                         \n",
      "====================================================================================\n",
      "                       coef    std err          t      P>|t|      [0.025      0.975]\n",
      "------------------------------------------------------------------------------------\n",
      "const              1.83e+04    287.896     63.574      0.000    1.77e+04    1.89e+04\n",
      "stringency_index    -0.0202      4.746     -0.004      0.997      -9.322       9.281\n",
      "==============================================================================\n",
      "Omnibus:                    47785.006   Durbin-Watson:                   0.008\n",
      "Prob(Omnibus):                  0.000   Jarque-Bera (JB):           232613.810\n",
      "Skew:                           2.304   Prob(JB):                         0.00\n",
      "Kurtosis:                       8.766   Cond. No.                         181.\n",
      "==============================================================================\n",
      "\n",
      "Notes:\n",
      "[1] Standard Errors assume that the covariance matrix of the errors is correctly specified.\n"
     ]
    }
   ],
   "source": [
    "print(results.summary())"
   ]
  },
  {
   "cell_type": "markdown",
   "id": "1d243452-841c-434b-aadd-2db066686943",
   "metadata": {},
   "source": [
    "Now we can try to control for the number of tests:"
   ]
  },
  {
   "cell_type": "code",
   "execution_count": 11,
   "id": "2a4866a3-3505-42df-98c8-c2f30379a792",
   "metadata": {},
   "outputs": [
    {
     "name": "stdout",
     "output_type": "stream",
     "text": [
      "                               OLS Regression Results                              \n",
      "===================================================================================\n",
      "Dep. Variable:     total_cases_per_million   R-squared:                       0.326\n",
      "Model:                                 OLS   Adj. R-squared:                  0.326\n",
      "Method:                      Least Squares   F-statistic:                     2053.\n",
      "Date:                     Wed, 27 Oct 2021   Prob (F-statistic):               0.00\n",
      "Time:                             11:51:20   Log-Likelihood:            -5.5083e+05\n",
      "No. Observations:                    47524   AIC:                         1.102e+06\n",
      "Df Residuals:                        47517   BIC:                         1.102e+06\n",
      "Df Model:                                6                                         \n",
      "Covariance Type:                       HC3                                         \n",
      "==============================================================================================\n",
      "                                 coef    std err          z      P>|z|      [0.025      0.975]\n",
      "----------------------------------------------------------------------------------------------\n",
      "const                       8805.5887    514.091     17.128      0.000    7797.990    9813.188\n",
      "stringency_index            -101.3240      7.017    -14.440      0.000    -115.076     -87.572\n",
      "total_tests_per_thousand      12.7059      0.202     62.970      0.000      12.310      13.101\n",
      "gdp_per_capita                 0.0992      0.007     14.401      0.000       0.086       0.113\n",
      "aged_65_older                789.8677     26.637     29.653      0.000     737.661     842.075\n",
      "diabetes_prevalence          680.1358     35.750     19.025      0.000     610.067     750.204\n",
      "hospital_beds_per_thousand  -540.6511     55.628     -9.719      0.000    -649.681    -431.622\n",
      "==============================================================================\n",
      "Omnibus:                    10126.319   Durbin-Watson:                   0.012\n",
      "Prob(Omnibus):                  0.000   Jarque-Bera (JB):            19460.642\n",
      "Skew:                           1.311   Prob(JB):                         0.00\n",
      "Kurtosis:                       4.719   Cond. No.                     1.80e+05\n",
      "==============================================================================\n",
      "\n",
      "Notes:\n",
      "[1] Standard Errors are heteroscedasticity robust (HC3)\n",
      "[2] The condition number is large, 1.8e+05. This might indicate that there are\n",
      "strong multicollinearity or other numerical problems.\n"
     ]
    }
   ],
   "source": [
    "y = data['total_cases_per_million']\n",
    "x = sm.add_constant(data[['stringency_index','total_tests_per_thousand','gdp_per_capita','aged_65_older','diabetes_prevalence','hospital_beds_per_thousand']])\n",
    "pooled_ols = sm.OLS(y,x,missing='drop').fit(cov_type='HC3')\n",
    "print(pooled_ols.summary())"
   ]
  },
  {
   "cell_type": "markdown",
   "id": "e347c020-e687-457c-b65c-29e720d9b5d4",
   "metadata": {},
   "source": [
    "We redo the same regression using total deaths per million instead:"
   ]
  },
  {
   "cell_type": "code",
   "execution_count": 12,
   "id": "2f2417f1-7fde-4824-bcbf-0e4afb9ce107",
   "metadata": {},
   "outputs": [
    {
     "name": "stdout",
     "output_type": "stream",
     "text": [
      "                               OLS Regression Results                               \n",
      "====================================================================================\n",
      "Dep. Variable:     total_deaths_per_million   R-squared:                       0.111\n",
      "Model:                                  OLS   Adj. R-squared:                  0.111\n",
      "Method:                       Least Squares   F-statistic:                     997.6\n",
      "Date:                      Wed, 27 Oct 2021   Prob (F-statistic):               0.00\n",
      "Time:                              11:51:20   Log-Likelihood:            -3.6654e+05\n",
      "No. Observations:                     46129   AIC:                         7.331e+05\n",
      "Df Residuals:                         46122   BIC:                         7.332e+05\n",
      "Df Model:                                 6                                         \n",
      "Covariance Type:                        HC3                                         \n",
      "==============================================================================================\n",
      "                                 coef    std err          z      P>|z|      [0.025      0.975]\n",
      "----------------------------------------------------------------------------------------------\n",
      "const                        279.6839     13.552     20.638      0.000     253.123     306.245\n",
      "stringency_index              -0.6309      0.194     -3.253      0.001      -1.011      -0.251\n",
      "total_tests_per_thousand       0.1352      0.004     31.097      0.000       0.127       0.144\n",
      "gdp_per_capita                -0.0034      0.000    -27.268      0.000      -0.004      -0.003\n",
      "aged_65_older                 31.8343      0.568     56.009      0.000      30.720      32.948\n",
      "diabetes_prevalence           -0.9340      0.823     -1.135      0.256      -2.547       0.679\n",
      "hospital_beds_per_thousand   -26.6451      1.273    -20.929      0.000     -29.140     -24.150\n",
      "==============================================================================\n",
      "Omnibus:                    30085.662   Durbin-Watson:                   0.009\n",
      "Prob(Omnibus):                  0.000   Jarque-Bera (JB):           514584.729\n",
      "Skew:                           2.903   Prob(JB):                         0.00\n",
      "Kurtosis:                      18.298   Cond. No.                     1.85e+05\n",
      "==============================================================================\n",
      "\n",
      "Notes:\n",
      "[1] Standard Errors are heteroscedasticity robust (HC3)\n",
      "[2] The condition number is large, 1.85e+05. This might indicate that there are\n",
      "strong multicollinearity or other numerical problems.\n"
     ]
    }
   ],
   "source": [
    "y = data['total_deaths_per_million']\n",
    "x = sm.add_constant(data[['stringency_index','total_tests_per_thousand','gdp_per_capita','aged_65_older','diabetes_prevalence','hospital_beds_per_thousand']])\n",
    "pooled_ols = sm.OLS(y,x,missing='drop').fit(cov_type='HC3')\n",
    "print(pooled_ols.summary())"
   ]
  },
  {
   "cell_type": "markdown",
   "id": "3748ec6a-2dd7-464e-8d38-65d5b287058f",
   "metadata": {},
   "source": [
    "## Panel regression"
   ]
  },
  {
   "cell_type": "markdown",
   "id": "3e044938-7ce3-4c82-8a4e-3ebeb52ed3a2",
   "metadata": {},
   "source": [
    "I'm going to try the same regression by adding country fixed effects. `PanelOLS` exploits the index structure we defined earlier so we don't need to specifiy which variables are entities and time dates."
   ]
  },
  {
   "cell_type": "code",
   "execution_count": 13,
   "id": "5faf0fa2-99cb-4e33-9a34-5852d8e0ca5d",
   "metadata": {},
   "outputs": [
    {
     "name": "stderr",
     "output_type": "stream",
     "text": [
      "C:\\Users\\MA19310\\Anaconda3\\envs\\_updated_env\\lib\\site-packages\\linearmodels\\shared\\exceptions.py:35: MissingValueWarning: \n",
      "Inputs contain missing values. Dropping rows with missing observations.\n",
      "  warnings.warn(missing_value_warning_msg, MissingValueWarning)\n",
      "C:\\Users\\MA19310\\Anaconda3\\envs\\_updated_env\\lib\\site-packages\\linearmodels\\panel\\model.py:1796: AbsorbingEffectWarning: \n",
      "Variables have been fully absorbed and have removed from the regression:\n",
      "\n",
      "gdp_per_capita, aged_65_older\n",
      "\n",
      "  warnings.warn(\n"
     ]
    },
    {
     "name": "stdout",
     "output_type": "stream",
     "text": [
      "                             PanelOLS Estimation Summary                             \n",
      "=====================================================================================\n",
      "Dep. Variable:     total_cases_per_million   R-squared:                        0.3694\n",
      "Estimator:                        PanelOLS   R-squared (Between):              0.1812\n",
      "No. Observations:                    50161   R-squared (Within):               0.3694\n",
      "Date:                     Wed, Oct 27 2021   R-squared (Overall):              0.2928\n",
      "Time:                             11:51:20   Log-likelihood                -5.674e+05\n",
      "Cov. Estimator:                  Clustered                                           \n",
      "                                             F-statistic:                   1.466e+04\n",
      "Entities:                              119   P-value                           0.0000\n",
      "Avg Obs:                            421.52   Distribution:                 F(2,50040)\n",
      "Min Obs:                            1.0000                                           \n",
      "Max Obs:                            633.00   F-statistic (robust):             24.453\n",
      "                                             P-value                           0.0000\n",
      "Time periods:                          640   Distribution:                 F(2,50040)\n",
      "Avg Obs:                            78.377                                           \n",
      "Min Obs:                            1.0000                                           \n",
      "Max Obs:                            99.000                                           \n",
      "                                                                                     \n",
      "                                    Parameter Estimates                                     \n",
      "============================================================================================\n",
      "                          Parameter  Std. Err.     T-stat    P-value    Lower CI    Upper CI\n",
      "--------------------------------------------------------------------------------------------\n",
      "const                     2.825e+04     2828.2     9.9885     0.0000   2.271e+04   3.379e+04\n",
      "stringency_index            -213.95     42.703    -5.0103     0.0000     -297.65     -130.26\n",
      "total_tests_per_thousand     15.633     2.9374     5.3218     0.0000      9.8752      21.390\n",
      "============================================================================================\n",
      "\n",
      "F-test for Poolability: 322.37\n",
      "P-value: 0.0000\n",
      "Distribution: F(118,50040)\n",
      "\n",
      "Included effects: Entity\n"
     ]
    }
   ],
   "source": [
    "y = data['total_cases_per_million']\n",
    "x = sm.add_constant(data[['stringency_index','total_tests_per_thousand','gdp_per_capita','aged_65_older']])\n",
    "model = PanelOLS(y, x, time_effects=0, entity_effects=1,drop_absorbed=True)\n",
    "results = model.fit(cov_type='clustered',cluster_entity=True)\n",
    "print(results)"
   ]
  },
  {
   "cell_type": "markdown",
   "id": "54042e8a-b3ef-43ee-996c-7908875427e2",
   "metadata": {},
   "source": [
    "Notice that to make `PanelOLS` automatically drop the absorbed variables we need to add `drop_absorbed=True`"
   ]
  }
 ],
 "metadata": {
  "kernelspec": {
   "display_name": "Python 3 (ipykernel)",
   "language": "python",
   "name": "python3"
  },
  "language_info": {
   "codemirror_mode": {
    "name": "ipython",
    "version": 3
   },
   "file_extension": ".py",
   "mimetype": "text/x-python",
   "name": "python",
   "nbconvert_exporter": "python",
   "pygments_lexer": "ipython3",
   "version": "3.8.12"
  }
 },
 "nbformat": 4,
 "nbformat_minor": 5
}
