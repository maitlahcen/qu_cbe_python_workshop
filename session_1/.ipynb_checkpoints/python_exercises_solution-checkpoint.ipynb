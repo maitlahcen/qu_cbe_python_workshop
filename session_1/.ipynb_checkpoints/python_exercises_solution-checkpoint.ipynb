{
 "cells": [
  {
   "cell_type": "markdown",
   "metadata": {},
   "source": [
    "# QU CBE Introduction to Python Workshop - Core Python"
   ]
  },
  {
   "cell_type": "markdown",
   "metadata": {},
   "source": [
    "**Mohammed Ait Lahcen, Department of Finance and Economics, College of Business and Economics, Qatar University**"
   ]
  },
  {
   "cell_type": "markdown",
   "metadata": {},
   "source": [
    "In this notebook you can find practice exercises with suggested solutions."
   ]
  },
  {
   "cell_type": "code",
   "execution_count": 1,
   "metadata": {},
   "outputs": [],
   "source": [
    "import numpy as np\n",
    "import matplotlib.pyplot as plt"
   ]
  },
  {
   "cell_type": "markdown",
   "metadata": {},
   "source": [
    "## Exercise 1"
   ]
  },
  {
   "cell_type": "markdown",
   "metadata": {},
   "source": [
    "Write a code that approximates $\\pi$ by computing the sum:\n",
    "$$\n",
    "\\pi \\sim 4 \\sum_{k=0}^n \\frac{(-1)^k}{2 k +1}\n",
    "$$\n",
    "\n",
    "Compute the approximation error for different values of n (e.g. 100, 1'000, 10'000) by comparing the result with the Python $\\pi$ function."
   ]
  },
  {
   "cell_type": "markdown",
   "metadata": {},
   "source": [
    "### Solution"
   ]
  },
  {
   "cell_type": "markdown",
   "metadata": {},
   "source": [
    "We can write a function that takes $n$ as argument and returns the approximation of $\\pi$ according to the formula above:"
   ]
  },
  {
   "cell_type": "code",
   "execution_count": 2,
   "metadata": {},
   "outputs": [],
   "source": [
    "def approx_pi(n):\n",
    "    \n",
    "    s = 0\n",
    "    \n",
    "    for k in range(n+1):\n",
    "        s = s + ((-1) ** k) / (2 * k + 1)\n",
    "    \n",
    "    pi = 4 * s\n",
    "    \n",
    "    return pi"
   ]
  },
  {
   "cell_type": "markdown",
   "metadata": {},
   "source": [
    "Next, we compute the approximation error by comparing the result of the function against the value of $\\pi$ provided by Numpy:"
   ]
  },
  {
   "cell_type": "code",
   "execution_count": 3,
   "metadata": {},
   "outputs": [
    {
     "name": "stdout",
     "output_type": "stream",
     "text": [
      "0.009900747481198291\n",
      "0.0009990007497511222\n",
      "9.99900007414567e-05\n"
     ]
    }
   ],
   "source": [
    "for n in [100,1000,10000]:\n",
    "    print(approx_pi(n) - np.pi)"
   ]
  },
  {
   "cell_type": "markdown",
   "metadata": {},
   "source": [
    "## Exercise 2"
   ]
  },
  {
   "cell_type": "markdown",
   "metadata": {},
   "source": [
    "Consider the polynomial:\n",
    "$$\n",
    "p(x) = a_0 + a_1 x + a_2 x^2 + ... + a_n x^n = \\sum_{k=0}^n a_k x^k\n",
    "$$\n",
    "\n",
    "Write a **function** `p(x, coeff)` that takes $x$ and a list of coefficients $\\{a_0, a_1,...,a_n\\}$ as inputs and returns the value $p(x)$ defined above.\n",
    "\n",
    "Hint: you can use the function `enumerate()`."
   ]
  },
  {
   "cell_type": "markdown",
   "metadata": {},
   "source": [
    "### Solution"
   ]
  },
  {
   "cell_type": "markdown",
   "metadata": {},
   "source": [
    "Two solutions are suggested below. The first uses a standard for loop:"
   ]
  },
  {
   "cell_type": "code",
   "execution_count": 4,
   "metadata": {},
   "outputs": [],
   "source": [
    "def p1(x, coeff):\n",
    "    \n",
    "    p = 0\n",
    "    \n",
    "    for k, a in enumerate(coeff):\n",
    "        p = p + a * x ** k\n",
    "    \n",
    "    return p    "
   ]
  },
  {
   "cell_type": "code",
   "execution_count": 5,
   "metadata": {},
   "outputs": [
    {
     "name": "stdout",
     "output_type": "stream",
     "text": [
      "11\n"
     ]
    }
   ],
   "source": [
    "coeff = [1,2]\n",
    "\n",
    "print(p1(5,coeff))"
   ]
  },
  {
   "cell_type": "markdown",
   "metadata": {},
   "source": [
    "The second solution uses a generator expression inside a `sum()`. Since it stands on one line we can put it inside an anonymous function:"
   ]
  },
  {
   "cell_type": "code",
   "execution_count": 6,
   "metadata": {},
   "outputs": [],
   "source": [
    "p2 = lambda x, coeff: sum(a * x ** k for k,a in enumerate(coeff))"
   ]
  },
  {
   "cell_type": "code",
   "execution_count": 7,
   "metadata": {},
   "outputs": [
    {
     "name": "stdout",
     "output_type": "stream",
     "text": [
      "11\n"
     ]
    }
   ],
   "source": [
    "coeff = [1,2]\n",
    "\n",
    "print(p2(5,coeff))"
   ]
  },
  {
   "cell_type": "markdown",
   "metadata": {},
   "source": [
    "## Exercise 3"
   ]
  },
  {
   "cell_type": "markdown",
   "metadata": {},
   "source": [
    "Create a Numpy array $A$ whose elements are the first 1'000 integers in backward order i.e. `A[0] = 999; A[1] = 998;` etc. \n",
    "\n",
    "Now, by slicing $A$ create an array $B$ such that\n",
    "* its first elements corresponds to the elements of $A$ ranging from 2 to 500 with an increment of 5\n",
    "* its last elements corresponds to all the other elements of $A$ (i.e. 501 onward) except for the last one."
   ]
  },
  {
   "cell_type": "markdown",
   "metadata": {
    "tags": []
   },
   "source": [
    "### Solution"
   ]
  },
  {
   "cell_type": "code",
   "execution_count": 8,
   "metadata": {},
   "outputs": [],
   "source": [
    "A = np.arange(0,1000)[::-1]\n",
    "B = np.concatenate((A[2:500:5],A[501:-1]))"
   ]
  },
  {
   "cell_type": "markdown",
   "metadata": {},
   "source": [
    "## Exercise 4"
   ]
  },
  {
   "cell_type": "markdown",
   "metadata": {},
   "source": [
    "How can you simplify the following nested conditional statements?"
   ]
  },
  {
   "cell_type": "code",
   "execution_count": 9,
   "metadata": {},
   "outputs": [
    {
     "name": "stdout",
     "output_type": "stream",
     "text": [
      "Lost it\n"
     ]
    }
   ],
   "source": [
    "a = np.random.randn()\n",
    "\n",
    "if a > -0.5:\n",
    "    if a < 0.5:\n",
    "        print(\"Got it\")\n",
    "    else:\n",
    "        print(\"Lost it\")\n",
    "else:\n",
    "    print(\"Lost it\")"
   ]
  },
  {
   "cell_type": "markdown",
   "metadata": {},
   "source": [
    "### Solution"
   ]
  },
  {
   "cell_type": "code",
   "execution_count": 10,
   "metadata": {},
   "outputs": [
    {
     "name": "stdout",
     "output_type": "stream",
     "text": [
      "Lost it\n"
     ]
    }
   ],
   "source": [
    "a = np.random.randn()\n",
    "\n",
    "if 0.5 > a > -0.5:\n",
    "    print(\"Got it\")\n",
    "else:\n",
    "    print(\"Lost it\")"
   ]
  },
  {
   "cell_type": "markdown",
   "metadata": {},
   "source": [
    "## Exercise 5"
   ]
  },
  {
   "cell_type": "markdown",
   "metadata": {},
   "source": [
    "Write a nested `for` loop to visit all elements of the following nested list:"
   ]
  },
  {
   "cell_type": "code",
   "execution_count": 11,
   "metadata": {},
   "outputs": [],
   "source": [
    "l = [[\"a\", \"b\", \"c\"], [\"d\", \"e\", \"f\"], [\"g\", \"h\"]]"
   ]
  },
  {
   "cell_type": "markdown",
   "metadata": {},
   "source": [
    "### Solution"
   ]
  },
  {
   "cell_type": "code",
   "execution_count": 12,
   "metadata": {},
   "outputs": [
    {
     "name": "stdout",
     "output_type": "stream",
     "text": [
      "a\n",
      "b\n",
      "c\n",
      "d\n",
      "e\n",
      "f\n",
      "g\n",
      "h\n"
     ]
    }
   ],
   "source": [
    "for i in l: \n",
    "    for j in range(len(i)):\n",
    "        print(i[j])"
   ]
  },
  {
   "cell_type": "markdown",
   "metadata": {},
   "source": [
    "## Exercise 6"
   ]
  },
  {
   "cell_type": "markdown",
   "metadata": {},
   "source": [
    "Rewrite the nested list comprehension `q` by using a standard `for` loop instead:"
   ]
  },
  {
   "cell_type": "code",
   "execution_count": 13,
   "metadata": {},
   "outputs": [],
   "source": [
    "l = [r**2 for r in [10**i for i in range(5)]]"
   ]
  },
  {
   "cell_type": "markdown",
   "metadata": {},
   "source": [
    "### Solution"
   ]
  },
  {
   "cell_type": "code",
   "execution_count": 14,
   "metadata": {},
   "outputs": [
    {
     "name": "stdout",
     "output_type": "stream",
     "text": [
      "[1, 100, 10000, 1000000, 100000000]\n"
     ]
    }
   ],
   "source": [
    "l = []\n",
    "\n",
    "for i in range(5):\n",
    "    x = (10 ** i) ** 2\n",
    "    l.append(x)\n",
    "\n",
    "print(l)"
   ]
  },
  {
   "cell_type": "markdown",
   "metadata": {},
   "source": [
    "## Exercise 7"
   ]
  },
  {
   "cell_type": "markdown",
   "metadata": {},
   "source": [
    "Vectorize the following function by replacing Python loops with NumPy array operations:"
   ]
  },
  {
   "cell_type": "code",
   "execution_count": 15,
   "metadata": {},
   "outputs": [],
   "source": [
    "def sumproducts(x, y):\n",
    "    \"\"\"\n",
    "    Return the sum of x[i] * y[j] for all pairs of indices i, j.\n",
    "\n",
    "    \"\"\"\n",
    "    result = 0\n",
    "\n",
    "    for i in range(len(x)):\n",
    "        for j in range(len(y)):\n",
    "            result += x[i] * y[j]\n",
    "\n",
    "    return result"
   ]
  },
  {
   "cell_type": "markdown",
   "metadata": {},
   "source": [
    "### Solution"
   ]
  },
  {
   "cell_type": "code",
   "execution_count": 16,
   "metadata": {},
   "outputs": [],
   "source": [
    "x = np.arange(100)\n",
    "y = np.arange(100)"
   ]
  },
  {
   "cell_type": "code",
   "execution_count": 17,
   "metadata": {},
   "outputs": [
    {
     "data": {
      "text/plain": [
       "24502500"
      ]
     },
     "execution_count": 17,
     "metadata": {},
     "output_type": "execute_result"
    }
   ],
   "source": [
    "sumproducts(x,y)"
   ]
  },
  {
   "cell_type": "markdown",
   "metadata": {},
   "source": [
    "The best way to vectorize the above function is to use the equivalence  $\\sum_{ij} x_i y_j = \\sum_{i} x_i \\sum_{j} y_j$:"
   ]
  },
  {
   "cell_type": "code",
   "execution_count": 18,
   "metadata": {},
   "outputs": [
    {
     "data": {
      "text/plain": [
       "24502500"
      ]
     },
     "execution_count": 18,
     "metadata": {},
     "output_type": "execute_result"
    }
   ],
   "source": [
    "sumproducts_vec = lambda a,b: np.sum(a) * np.sum(b)\n",
    "sumproducts_vec(x,y)"
   ]
  },
  {
   "cell_type": "markdown",
   "metadata": {},
   "source": [
    "Notice the speed difference:"
   ]
  },
  {
   "cell_type": "code",
   "execution_count": 19,
   "metadata": {},
   "outputs": [
    {
     "name": "stdout",
     "output_type": "stream",
     "text": [
      "2.51 ms ± 61.6 µs per loop (mean ± std. dev. of 7 runs, 100 loops each)\n",
      "6.98 µs ± 71.1 ns per loop (mean ± std. dev. of 7 runs, 100000 loops each)\n"
     ]
    }
   ],
   "source": [
    "%timeit sumproducts(x,y)\n",
    "%timeit sumproducts_vec(x,y)"
   ]
  },
  {
   "cell_type": "markdown",
   "metadata": {},
   "source": [
    "## Exercise 8"
   ]
  },
  {
   "cell_type": "markdown",
   "metadata": {},
   "source": [
    "Create a function that takes as arguments a 1d array $x$ and parameters $\\mu$ and $\\sigma$ and returns the corresponding values of the one-dimensional Gaussian distribution function $g(x)$: \n",
    "$$\n",
    "g(x) = \\frac{1}{\\sqrt{2 \\pi \\sigma^2}} \\exp \\left(- \\frac{(x-\\mu)^2}{2\\sigma^2} \\right)\n",
    "$$\n",
    "\n",
    "Use a loop to plot $g(x)$ for different values of $\\mu$ and $\\sigma$ on the same figure."
   ]
  },
  {
   "cell_type": "markdown",
   "metadata": {},
   "source": [
    "### Solution"
   ]
  },
  {
   "cell_type": "code",
   "execution_count": 20,
   "metadata": {},
   "outputs": [],
   "source": [
    "def g(x,mu,sigma2):\n",
    "    \n",
    "    g = (1 / (np.sqrt(2 * np.pi * sigma2))) * np.exp(-((x - mu) ** 2 / (2 * (sigma2))))\n",
    "    \n",
    "    return g"
   ]
  },
  {
   "cell_type": "code",
   "execution_count": 21,
   "metadata": {},
   "outputs": [
    {
     "data": {
      "image/png": "[encoded data removed]",
      "text/plain": [
       "<Figure size 648x432 with 1 Axes>"
      ]
     },
     "metadata": {
      "needs_background": "light"
     },
     "output_type": "display_data"
    }
   ],
   "source": [
    "x = np.linspace(-5,5,1000)\n",
    "\n",
    "plt.figure(figsize=(9, 6))\n",
    "\n",
    "for sigma2 in [0.2,0.5,1,5]:\n",
    "    plt.plot(x,g(x,0,sigma2),label=r'$\\mu = 0, \\sigma^2 = %s$'%sigma2)\n",
    "\n",
    "plt.legend(loc='best')\n",
    "plt.show()"
   ]
  }
 ],
 "metadata": {
  "kernelspec": {
   "display_name": "Python 3 (ipykernel)",
   "language": "python",
   "name": "python3"
  },
  "language_info": {
   "codemirror_mode": {
    "name": "ipython",
    "version": 3
   },
   "file_extension": ".py",
   "mimetype": "text/x-python",
   "name": "python",
   "nbconvert_exporter": "python",
   "pygments_lexer": "ipython3",
   "version": "3.8.11"
  }
 },
 "nbformat": 4,
 "nbformat_minor": 4
}
